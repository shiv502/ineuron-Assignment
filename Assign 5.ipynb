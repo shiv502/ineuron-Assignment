{
 "cells": [
  {
   "cell_type": "raw",
   "id": "c4500d6f",
   "metadata": {},
   "source": [
    "Q1. What does an empty dictionary code look like?"
   ]
  },
  {
   "cell_type": "markdown",
   "id": "b174534f",
   "metadata": {},
   "source": [
    "empty dict is often two curly bracket\n",
    "d = {} , d1 = dict()"
   ]
  },
  {
   "cell_type": "raw",
   "id": "b661e725",
   "metadata": {},
   "source": [
    "Q2. what is the value of dictionary value with key 'foo' and value 42?"
   ]
  },
  {
   "cell_type": "markdown",
   "id": "f541aba1",
   "metadata": {},
   "source": [
    "{'foo':42}"
   ]
  },
  {
   "cell_type": "raw",
   "id": "5eb4bc8f",
   "metadata": {},
   "source": [
    "Q3. What is the most significant distinction between a dictionary and list?"
   ]
  },
  {
   "cell_type": "markdown",
   "id": "4a95bc14",
   "metadata": {},
   "source": [
    "Dictionaries represent by {} and list represent are [].\n",
    "item stored in a dictionary are unordered , while inlist item stored in ordered."
   ]
  },
  {
   "cell_type": "raw",
   "id": "92f52628",
   "metadata": {},
   "source": [
    "Q4. What happen if you are try to access spam['foo'] if spam is {'bar':100}?"
   ]
  },
  {
   "cell_type": "markdown",
   "id": "8b231f96",
   "metadata": {},
   "source": [
    "we will get key error"
   ]
  },
  {
   "cell_type": "raw",
   "id": "daf518fc",
   "metadata": {},
   "source": [
    "Q5. if dictionary stored in spam, what is thr difference between the expressions 'cat' is spam and 'cat' is spam.keys()?"
   ]
  },
  {
   "cell_type": "markdown",
   "id": "b79ba92a",
   "metadata": {},
   "source": [
    "there is no difference. the operator checks whether a value exist as a key in the dictionary or not"
   ]
  },
  {
   "cell_type": "raw",
   "id": "f2df95af",
   "metadata": {},
   "source": [
    "Q6. if dictionary stored in spam, what is thr difference between the expressions 'cat' is spam and 'cat' is spam.values()?"
   ]
  },
  {
   "cell_type": "markdown",
   "id": "9847d082",
   "metadata": {},
   "source": [
    "cat in spam checks whether there is a cat key in the dictionary, while 'cat' is spam.values() checks there is value 'cat' for one of the keys in spam"
   ]
  },
  {
   "cell_type": "markdown",
   "id": "1f37b151",
   "metadata": {},
   "source": [
    "Q7. what is short cut for following code?\n",
    "if 'color' not in spam:\n",
    "    spam['color'] = 'black'"
   ]
  },
  {
   "cell_type": "code",
   "execution_count": null,
   "id": "e2cab6f1",
   "metadata": {},
   "outputs": [],
   "source": [
    "spam."
   ]
  }
 ],
 "metadata": {
  "kernelspec": {
   "display_name": "Python 3 (ipykernel)",
   "language": "python",
   "name": "python3"
  },
  "language_info": {
   "codemirror_mode": {
    "name": "ipython",
    "version": 3
   },
   "file_extension": ".py",
   "mimetype": "text/x-python",
   "name": "python",
   "nbconvert_exporter": "python",
   "pygments_lexer": "ipython3",
   "version": "3.9.12"
  }
 },
 "nbformat": 4,
 "nbformat_minor": 5
}
