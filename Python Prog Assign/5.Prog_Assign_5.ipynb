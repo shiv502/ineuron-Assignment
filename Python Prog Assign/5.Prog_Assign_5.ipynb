{
 "cells": [
  {
   "cell_type": "markdown",
   "metadata": {},
   "source": [
    "Q1. Write a Python Program to Find LCM?"
   ]
  },
  {
   "cell_type": "code",
   "execution_count": 3,
   "metadata": {},
   "outputs": [
    {
     "name": "stdout",
     "output_type": "stream",
     "text": [
      "Enter first Number : 5\n",
      "Enter second Number : 6\n",
      "LCM of 5 and 6 is 30\n"
     ]
    }
   ],
   "source": [
    "a=int(input(\"Enter first Number : \"))\n",
    "b=int(input(\"Enter second Number : \"))\n",
    "def lcm(a,b):\n",
    "    if a>b:\n",
    "        high=a\n",
    "    else:\n",
    "        high=b\n",
    "    while(True):\n",
    "        if((high % a == 0) and (high % b == 0)):\n",
    "            lcm=high\n",
    "            break\n",
    "        high += 1\n",
    "    return high\n",
    "\n",
    "print(\"LCM of\", a, \"and\", b, \"is\",lcm(a,b) )"
   ]
  },
  {
   "cell_type": "markdown",
   "metadata": {},
   "source": [
    "Q2. Write a Python Program to Find HCF?"
   ]
  },
  {
   "cell_type": "code",
   "execution_count": 8,
   "metadata": {},
   "outputs": [
    {
     "name": "stdout",
     "output_type": "stream",
     "text": [
      "Enter first Number : 8\n",
      "Enter second Number : 10\n",
      "HCF of  8 and 10 is 10\n"
     ]
    }
   ],
   "source": [
    "a=int(input(\"Enter first Number : \"))\n",
    "b=int(input(\"Enter second Number : \"))\n",
    "def hcf(a,b):\n",
    "    if a>b:\n",
    "        small=a\n",
    "    else:\n",
    "        small=b\n",
    "    for i in range(1,small+1):\n",
    "        if((small%i==0) and (small%i==0)):\n",
    "            hcf=i\n",
    "    return hcf\n",
    "print(\"HCF of \",a,\"and\",b,\"is\",hcf(a,b))        "
   ]
  },
  {
   "cell_type": "markdown",
   "metadata": {},
   "source": [
    "Q3. Write a Python Program to Convert Decimal to Binary, Octal and Hexadecimal?"
   ]
  },
  {
   "cell_type": "code",
   "execution_count": 1,
   "metadata": {},
   "outputs": [
    {
     "name": "stdout",
     "output_type": "stream",
     "text": [
      "The decimal value of 450 is:\n",
      "0b111000010 in binary.\n",
      "0o702 in octal.\n",
      "0x1c2 in hexadecimal.\n"
     ]
    }
   ],
   "source": [
    "Num = 450\n",
    "\n",
    "print(\"The decimal value of\", Num, \"is:\")\n",
    "print(bin(Num), \"in binary.\")\n",
    "print(oct(Num), \"in octal.\")\n",
    "print(hex(Num), \"in hexadecimal.\")"
   ]
  },
  {
   "cell_type": "markdown",
   "metadata": {},
   "source": [
    "Q4. Write a Python Program To Find ASCII value of a character?"
   ]
  },
  {
   "cell_type": "code",
   "execution_count": 2,
   "metadata": {},
   "outputs": [
    {
     "name": "stdout",
     "output_type": "stream",
     "text": [
      "The ASCII value of 'p' is 112\n"
     ]
    }
   ],
   "source": [
    "Character = 'p'\n",
    "print(\"The ASCII value of '\" + Character + \"' is\", ord(Character))"
   ]
  },
  {
   "cell_type": "markdown",
   "metadata": {},
   "source": [
    "Q5. Write a Python Program to Make a Simple Calculator with 4 basic mathematical operations?"
   ]
  },
  {
   "cell_type": "code",
   "execution_count": null,
   "metadata": {},
   "outputs": [],
   "source": [
    "num1 = int(input(\"Enter the number : \"))\n",
    "num2 = int(input(\"Enter the number : \"))\n",
    "def add(a,b):\n",
    "    return a+b\n",
    "def sub(a,b):\n",
    "    return a-b\n",
    "def multi(a,b):\n",
    "    return a*b\n",
    "def div(a,b):\n",
    "    return a/b\n",
    "print(\"select operation\")\n",
    "print(\"1.Addition\")\n",
    "print(\"2.Subtract\")\n",
    "print(\"3.Multiply\")\n",
    "print(\"4.Divide\")\n",
    "\n",
    "while True :\n",
    "    choice = input(\"Enter choice (1/2/3/4): \")\n",
    "    if choice in ('1','2','3','4'):\n",
    "        if choice == '1':\n",
    "            print(num1, \"+\", num2, \"=\",add(num1,num2) )\n",
    "        if choice == '2':\n",
    "            print(num1, \"-\",num2, \"=\", sub(num1,num2))\n",
    "        if choice == '3':\n",
    "            print(num1,\"*\",num2,\"=\",multi(num1,num2))\n",
    "        if choice =='4':\n",
    "            print(num1,\"*\",num2,\"=\",div(num1,num2))"
   ]
  },
  {
   "cell_type": "code",
   "execution_count": null,
   "metadata": {},
   "outputs": [],
   "source": []
  }
 ],
 "metadata": {
  "kernelspec": {
   "display_name": "Python 3",
   "language": "python",
   "name": "python3"
  },
  "language_info": {
   "codemirror_mode": {
    "name": "ipython",
    "version": 3
   },
   "file_extension": ".py",
   "mimetype": "text/x-python",
   "name": "python",
   "nbconvert_exporter": "python",
   "pygments_lexer": "ipython3",
   "version": "3.7.3"
  }
 },
 "nbformat": 4,
 "nbformat_minor": 2
}
