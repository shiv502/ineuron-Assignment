{
 "cells": [
  {
   "cell_type": "markdown",
   "metadata": {},
   "source": [
    "Q1. Write a Python Program to Find the Factorial of a Number?"
   ]
  },
  {
   "cell_type": "code",
   "execution_count": 1,
   "metadata": {},
   "outputs": [
    {
     "name": "stdout",
     "output_type": "stream",
     "text": [
      "Enter the number : 7\n",
      "Factorial of  7 is 5040\n"
     ]
    }
   ],
   "source": [
    "num = int(input(\"Enter the number : \"))\n",
    "def factorial(n):\n",
    "    x = 1\n",
    "    for i in range(2,n+1):\n",
    "        x *= i\n",
    "    return x\n",
    "print(\"Factorial of \",num,\"is\",factorial(num))"
   ]
  },
  {
   "cell_type": "markdown",
   "metadata": {},
   "source": [
    "Q2. Write a Python Program to Display the multiplication Table?"
   ]
  },
  {
   "cell_type": "code",
   "execution_count": 3,
   "metadata": {},
   "outputs": [
    {
     "name": "stdout",
     "output_type": "stream",
     "text": [
      "The Multiplication table of : 9\n",
      "9 * 1 = 9\n",
      "9 * 2 = 18\n",
      "9 * 3 = 27\n",
      "9 * 4 = 36\n",
      "9 * 5 = 45\n",
      "9 * 6 = 54\n",
      "9 * 7 = 63\n",
      "9 * 8 = 72\n",
      "9 * 9 = 81\n",
      "9 * 10 = 90\n"
     ]
    }
   ],
   "source": [
    "Num = int(input(\"The Multiplication table of : \"))\n",
    "for i in range (1,11):\n",
    "    print(Num,'*',i,'=',Num*i)"
   ]
  },
  {
   "cell_type": "markdown",
   "metadata": {},
   "source": [
    "Q3. Write a Python Program to Print the Fibonacci sequence?"
   ]
  },
  {
   "cell_type": "code",
   "execution_count": 6,
   "metadata": {},
   "outputs": [
    {
     "name": "stdout",
     "output_type": "stream",
     "text": [
      "Enter number for fibonacci seq : 12\n",
      "144\n"
     ]
    }
   ],
   "source": [
    "n = int(input(\"Enter number for fibonacci seq : \"))\n",
    "def fibo(n):\n",
    "    if n <0 : \n",
    "        print(\"Incoorect Input\")\n",
    "    elif n == 0:\n",
    "        return 0\n",
    "    elif n==1 or n==2:\n",
    "        return 1\n",
    "    else:\n",
    "        return fibo(n-1)+fibo(n-2)\n",
    "    \n",
    "print(fibo(n))"
   ]
  },
  {
   "cell_type": "markdown",
   "metadata": {},
   "source": [
    "Q4.Write a Python Program to Check Armstrong Number?"
   ]
  },
  {
   "cell_type": "code",
   "execution_count": 9,
   "metadata": {},
   "outputs": [
    {
     "name": "stdout",
     "output_type": "stream",
     "text": [
      "Enter number to check Armstrong Number or not : 153\n",
      "The given number 153 is Armstrong Number\n"
     ]
    }
   ],
   "source": [
    "#Armstrong Number ,abcd = pow(a,n)+pow(b,n)+pow(c,n)....\n",
    "n = int(input(\"Enter number to check Armstrong Number or not : \"))\n",
    "num = n\n",
    "b = len(str(n))\n",
    "sum1 =0\n",
    "while n != 0:\n",
    "    div = n % 10\n",
    "    sum1 = sum1+(div**b)\n",
    "    n = n //10\n",
    "if num == sum1:\n",
    "    print(\"The given number\", num,\"is Armstrong Number\")\n",
    "else:\n",
    "    print(\"The given number\",num,\" is not Armstrong Number\")"
   ]
  },
  {
   "cell_type": "markdown",
   "metadata": {},
   "source": [
    "Q5. Write a Python Program to Find Armstrong Number in an Interval?"
   ]
  },
  {
   "cell_type": "code",
   "execution_count": 20,
   "metadata": {},
   "outputs": [
    {
     "name": "stdout",
     "output_type": "stream",
     "text": [
      "Lower limit of the range :150\n",
      "Upper limit of the range :200\n",
      "153\n"
     ]
    }
   ],
   "source": [
    "low_limit = int(input(\"Lower limit of the range :\"))\n",
    "upper_limit = int(input(\"Upper limit of the range :\"))\n",
    "\n",
    "for i in range (low_limit,upper_limit+1):\n",
    "    len1 = len(str(i))\n",
    "    sum1 = 0\n",
    "    a = i\n",
    "    while a != 0:\n",
    "        div = a % 10\n",
    "        sum1 = sum1+(div**len1)\n",
    "        a = a //10\n",
    "    if i == sum1:\n",
    "        print(i)\n",
    "    "
   ]
  },
  {
   "cell_type": "markdown",
   "metadata": {},
   "source": [
    "Q6. Write a Python Program to Find the Sum of Natural Numbers?"
   ]
  },
  {
   "cell_type": "code",
   "execution_count": 22,
   "metadata": {},
   "outputs": [
    {
     "name": "stdout",
     "output_type": "stream",
     "text": [
      "Enter the number :50\n",
      "The sum of number 1 to 50 : 1275\n"
     ]
    }
   ],
   "source": [
    "num = int(input(\"Enter the number :\"))\n",
    "total = 0\n",
    "for i in range(1,num+1):\n",
    "    total += i\n",
    "print(\"The sum of number 1 to\",num, \":\", total)"
   ]
  },
  {
   "cell_type": "code",
   "execution_count": null,
   "metadata": {},
   "outputs": [],
   "source": []
  }
 ],
 "metadata": {
  "kernelspec": {
   "display_name": "Python 3",
   "language": "python",
   "name": "python3"
  },
  "language_info": {
   "codemirror_mode": {
    "name": "ipython",
    "version": 3
   },
   "file_extension": ".py",
   "mimetype": "text/x-python",
   "name": "python",
   "nbconvert_exporter": "python",
   "pygments_lexer": "ipython3",
   "version": "3.7.3"
  }
 },
 "nbformat": 4,
 "nbformat_minor": 2
}
