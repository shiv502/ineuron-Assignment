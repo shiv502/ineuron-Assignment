{
 "cells": [
  {
   "cell_type": "markdown",
   "metadata": {},
   "source": [
    "Q1. Write a Python Program to find sum of array?"
   ]
  },
  {
   "cell_type": "code",
   "execution_count": 6,
   "metadata": {},
   "outputs": [
    {
     "name": "stdout",
     "output_type": "stream",
     "text": [
      "Sum of the array is  34\n"
     ]
    }
   ],
   "source": [
    "def sum(arr):\n",
    "    sum_ = 0\n",
    "    for i in arr:\n",
    "        sum_ = sum_ + i\n",
    "    return sum_\n",
    "arr = []\n",
    "arr = [12, 3, 4, 15]\n",
    "\n",
    "n = len(arr)\n",
    " \n",
    "ans = sum(arr)\n",
    " \n",
    "print('Sum of the array is ', ans)"
   ]
  },
  {
   "cell_type": "markdown",
   "metadata": {},
   "source": [
    "Q2. Write a Python Program to find largest element in an array?"
   ]
  },
  {
   "cell_type": "code",
   "execution_count": 7,
   "metadata": {},
   "outputs": [
    {
     "name": "stdout",
     "output_type": "stream",
     "text": [
      "Largest in given array  9808\n"
     ]
    }
   ],
   "source": [
    "\n",
    "def largest(arr, n):\n",
    "    max = arr[0]\n",
    "    for i in range(1, n):\n",
    "        if arr[i] > max:\n",
    "            max = arr[i]\n",
    "    return max\n",
    "\n",
    "arr = [10, 324, 45, 90, 9808]\n",
    "n = len(arr)\n",
    "Ans = largest(arr, n)\n",
    "print(\"Largest in given array \", Ans)"
   ]
  },
  {
   "cell_type": "markdown",
   "metadata": {},
   "source": [
    "Q3. Write a Python Program for array rotation?"
   ]
  },
  {
   "cell_type": "code",
   "execution_count": 8,
   "metadata": {},
   "outputs": [
    {
     "name": "stdout",
     "output_type": "stream",
     "text": [
      "Array after left rotation is:  [3, 4, 5, 6, 7, 1, 2]\n"
     ]
    }
   ],
   "source": [
    "def rotateArr(a,d):\n",
    "    temp = []\n",
    "    n=len(a)\n",
    "    for i in range(d,n):\n",
    "        temp.append(a[i])\n",
    "    i = 0\n",
    "    for i in range (0,d):\n",
    "        temp.append(a[i])\n",
    "    a=temp.copy()\n",
    "    return a\n",
    " \n",
    "arr = [1, 2, 3, 4, 5, 6, 7]\n",
    "print(\"Array after left rotation is: \", end=' ')\n",
    "print(rotateArr(arr, 2))"
   ]
  },
  {
   "cell_type": "markdown",
   "metadata": {},
   "source": [
    "Q4. Write a Python Program to Split the array and add the first part to the end?"
   ]
  },
  {
   "cell_type": "code",
   "execution_count": 9,
   "metadata": {},
   "outputs": [
    {
     "name": "stdout",
     "output_type": "stream",
     "text": [
      "5 6 52 36 12 10 "
     ]
    }
   ],
   "source": [
    "def splitArr(a, n, k): \n",
    "   b = a[:k]\n",
    "   return (a[k::]+b[::])\n",
    "\n",
    "arr = [12, 10, 5, 6, 52, 36]\n",
    "n = len(arr)\n",
    "position = 2\n",
    "arr = splitArr(arr, n, position)\n",
    "for i in range(0, n): \n",
    "    print(arr[i], end = ' ')"
   ]
  },
  {
   "cell_type": "markdown",
   "metadata": {},
   "source": [
    "Q5. Write a Python Program to check if given array is Monotonic?"
   ]
  },
  {
   "cell_type": "code",
   "execution_count": 10,
   "metadata": {},
   "outputs": [
    {
     "name": "stdout",
     "output_type": "stream",
     "text": [
      "True\n"
     ]
    }
   ],
   "source": [
    "def isMonotonic(A):\n",
    "    x, y = [], []\n",
    "    x.extend(A)\n",
    "    y.extend(A)\n",
    "    x.sort()\n",
    "    y.sort(reverse=True)\n",
    "    if(x == A or y == A):\n",
    "        return True\n",
    "    return False\n",
    " \n",
    " \n",
    "A = [6, 5, 4, 4]\n",
    " \n",
    "print(isMonotonic(A))"
   ]
  },
  {
   "cell_type": "code",
   "execution_count": null,
   "metadata": {},
   "outputs": [],
   "source": []
  }
 ],
 "metadata": {
  "kernelspec": {
   "display_name": "Python 3",
   "language": "python",
   "name": "python3"
  },
  "language_info": {
   "codemirror_mode": {
    "name": "ipython",
    "version": 3
   },
   "file_extension": ".py",
   "mimetype": "text/x-python",
   "name": "python",
   "nbconvert_exporter": "python",
   "pygments_lexer": "ipython3",
   "version": "3.7.3"
  }
 },
 "nbformat": 4,
 "nbformat_minor": 2
}
