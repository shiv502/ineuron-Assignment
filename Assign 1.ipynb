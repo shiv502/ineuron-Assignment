{
 "cells": [
  {
   "cell_type": "markdown",
   "id": "61a82ffd",
   "metadata": {},
   "source": [
    "Q1. In the below element which of them are values or an Expression?"
   ]
  },
  {
   "cell_type": "markdown",
   "id": "5138fe96",
   "metadata": {},
   "source": [
    "* - expression\n",
    "'hello' - value\n",
    "-87.8   - value\n",
    "-     - expression\n",
    "/     - expression\n",
    "+     - expression\n",
    "6     - value"
   ]
  },
  {
   "cell_type": "markdown",
   "id": "32274b10",
   "metadata": {},
   "source": [
    "Q2 . What is diff between string and variable?"
   ]
  },
  {
   "cell_type": "markdown",
   "id": "65a28d16",
   "metadata": {},
   "source": [
    "String - string is a value representing text\n",
    "variable - variable is a name that can refer to any value"
   ]
  },
  {
   "cell_type": "markdown",
   "id": "29558172",
   "metadata": {},
   "source": [
    "Q3.Describe three data type?\n"
   ]
  },
  {
   "cell_type": "markdown",
   "id": "6f77d321",
   "metadata": {},
   "source": [
    "Numbers- The Number data type is used to stores numeric values\n",
    "String- The string data type is used to stores the sequence of characters\n",
    "List: List data type is used to stores the collection of different data types of elements, and it is mutable"
   ]
  },
  {
   "cell_type": "markdown",
   "id": "0de5e0c1",
   "metadata": {},
   "source": [
    "Q4. What is the expression made up of?what all expression do?"
   ]
  },
  {
   "cell_type": "markdown",
   "id": "af71940e",
   "metadata": {},
   "source": [
    "An expression is a combination of operators, constants and variables"
   ]
  },
  {
   "cell_type": "markdown",
   "id": "97c72545",
   "metadata": {},
   "source": [
    "Q5.This assignment statements, like spam = 10. What is the difference between an expression and a statement?"
   ]
  },
  {
   "cell_type": "markdown",
   "id": "f43f1980",
   "metadata": {},
   "source": [
    "Expression is made up of values, containers, and mathematical operators  &\n",
    "statement is just like a command that a python interpreter executes like print"
   ]
  },
  {
   "cell_type": "markdown",
   "id": "4e723620",
   "metadata": {},
   "source": [
    "Q6.After running the following code, what does the variable bacon contain?\n",
    "\n",
    "bacon = 22\n",
    "\n",
    "bacon + 1"
   ]
  },
  {
   "cell_type": "markdown",
   "id": "a09fc85f",
   "metadata": {},
   "source": [
    "23"
   ]
  },
  {
   "cell_type": "markdown",
   "id": "460c1134",
   "metadata": {},
   "source": [
    "Q7. . What should the values of the following two terms be?\n",
    "\n",
    "'spam' + 'spamspam'\n",
    "\n",
    "'spam' * 3\n",
    "it will be the same"
   ]
  },
  {
   "cell_type": "code",
   "execution_count": 7,
   "id": "76b3a7e3",
   "metadata": {},
   "outputs": [],
   "source": [
    "a = 'spam' + 'spamspam'\n",
    "\n",
    "b = 'spam' * 3"
   ]
  },
  {
   "cell_type": "code",
   "execution_count": 8,
   "id": "b5e212ba",
   "metadata": {},
   "outputs": [
    {
     "data": {
      "text/plain": [
       "'spamspamspam'"
      ]
     },
     "execution_count": 8,
     "metadata": {},
     "output_type": "execute_result"
    }
   ],
   "source": [
    "a"
   ]
  },
  {
   "cell_type": "code",
   "execution_count": 9,
   "id": "7fbecbf4",
   "metadata": {},
   "outputs": [
    {
     "data": {
      "text/plain": [
       "'spamspamspam'"
      ]
     },
     "execution_count": 9,
     "metadata": {},
     "output_type": "execute_result"
    }
   ],
   "source": [
    "b"
   ]
  },
  {
   "cell_type": "markdown",
   "id": "6f03c264",
   "metadata": {},
   "source": [
    "Q8. Why is eggs a valid variable name while 100 is invalid?"
   ]
  },
  {
   "cell_type": "markdown",
   "id": "e8c869b3",
   "metadata": {},
   "source": [
    "Bcoz we cant start variable with number."
   ]
  },
  {
   "cell_type": "markdown",
   "id": "9784cd01",
   "metadata": {},
   "source": [
    "Q9. What three functions can be used to get the integer, floating-point number, or string version of a value?"
   ]
  },
  {
   "cell_type": "markdown",
   "id": "5bbb1678",
   "metadata": {},
   "source": [
    "int(), float(), str()"
   ]
  },
  {
   "cell_type": "markdown",
   "id": "8990c115",
   "metadata": {},
   "source": [
    "Q10. Why does this expression cause an error? How can you fix it?\n",
    "\n",
    "'I have eaten' + 99 + 'burritos' "
   ]
  },
  {
   "cell_type": "code",
   "execution_count": null,
   "id": "a8451db1",
   "metadata": {},
   "outputs": [],
   "source": [
    "bcoz integer cannot be concatenated with strings"
   ]
  }
 ],
 "metadata": {
  "kernelspec": {
   "display_name": "Python 3 (ipykernel)",
   "language": "python",
   "name": "python3"
  },
  "language_info": {
   "codemirror_mode": {
    "name": "ipython",
    "version": 3
   },
   "file_extension": ".py",
   "mimetype": "text/x-python",
   "name": "python",
   "nbconvert_exporter": "python",
   "pygments_lexer": "ipython3",
   "version": "3.9.12"
  }
 },
 "nbformat": 4,
 "nbformat_minor": 5
}
