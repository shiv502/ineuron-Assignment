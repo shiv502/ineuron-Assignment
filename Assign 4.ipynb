{
 "cells": [
  {
   "cell_type": "markdown",
   "id": "03b8dda9",
   "metadata": {},
   "source": [
    "Q1. What is exactly []?\n",
    "\n"
   ]
  },
  {
   "cell_type": "markdown",
   "id": "88f70b31",
   "metadata": {},
   "source": [
    "this is the empty list, which is list value that contain no item"
   ]
  },
  {
   "cell_type": "markdown",
   "id": "2e9ccedc",
   "metadata": {},
   "source": [
    "Q2. in list values stored in a variabke called spam , how would you assign the value 'hello' as the third value? \n",
    "Assume[2,4,6,8,10] are in spam)"
   ]
  },
  {
   "cell_type": "code",
   "execution_count": 8,
   "id": "d809879d",
   "metadata": {},
   "outputs": [],
   "source": [
    "spam=[2,4,6,8,10]\n",
    "spam[2] = 'hello'"
   ]
  },
  {
   "cell_type": "code",
   "execution_count": 9,
   "id": "1dc7ac30",
   "metadata": {},
   "outputs": [
    {
     "data": {
      "text/plain": [
       "[2, 4, 'hello', 8, 10]"
      ]
     },
     "execution_count": 9,
     "metadata": {},
     "output_type": "execute_result"
    }
   ],
   "source": [
    "spam"
   ]
  },
  {
   "cell_type": "markdown",
   "id": "4ccac50b",
   "metadata": {},
   "source": [
    "Lets pretend the spam includes the list['a','b','c','d'] for next three questions"
   ]
  },
  {
   "cell_type": "code",
   "execution_count": 10,
   "id": "3f7903c5",
   "metadata": {},
   "outputs": [],
   "source": [
    "spam = ['a','b','c','d']"
   ]
  },
  {
   "cell_type": "markdown",
   "id": "d0197c11",
   "metadata": {},
   "source": [
    "Q3. What is the value of spam[int(int('3'*2)/11)]?"
   ]
  },
  {
   "cell_type": "code",
   "execution_count": 11,
   "id": "4abe2a31",
   "metadata": {},
   "outputs": [
    {
     "data": {
      "text/plain": [
       "'d'"
      ]
     },
     "execution_count": 11,
     "metadata": {},
     "output_type": "execute_result"
    }
   ],
   "source": [
    "spam[int(int('3'*2)/11)]"
   ]
  },
  {
   "cell_type": "markdown",
   "id": "b2b81c4e",
   "metadata": {},
   "source": [
    "Q4. What is the value of spam[-1]?"
   ]
  },
  {
   "cell_type": "code",
   "execution_count": 12,
   "id": "6c98a3e4",
   "metadata": {},
   "outputs": [
    {
     "data": {
      "text/plain": [
       "'d'"
      ]
     },
     "execution_count": 12,
     "metadata": {},
     "output_type": "execute_result"
    }
   ],
   "source": [
    "spam[-1]"
   ]
  },
  {
   "cell_type": "markdown",
   "id": "7c87535f",
   "metadata": {},
   "source": [
    "Q5. What is the value of spam[:2]?"
   ]
  },
  {
   "cell_type": "code",
   "execution_count": 13,
   "id": "6f914b2d",
   "metadata": {},
   "outputs": [
    {
     "data": {
      "text/plain": [
       "['a', 'b']"
      ]
     },
     "execution_count": 13,
     "metadata": {},
     "output_type": "execute_result"
    }
   ],
   "source": [
    "spam[:2]"
   ]
  },
  {
   "cell_type": "markdown",
   "id": "70cac65e",
   "metadata": {},
   "source": [
    "lets predent bacon has the list [3.14,'cat',11,'cat',True] for next three question."
   ]
  },
  {
   "cell_type": "markdown",
   "id": "864ca1ba",
   "metadata": {},
   "source": [
    "Q6. What is the index of bacon.index('cat')?"
   ]
  },
  {
   "cell_type": "code",
   "execution_count": 2,
   "id": "089190ea",
   "metadata": {},
   "outputs": [
    {
     "data": {
      "text/plain": [
       "1"
      ]
     },
     "execution_count": 2,
     "metadata": {},
     "output_type": "execute_result"
    }
   ],
   "source": [
    "bacon = [3.14,'cat',11,'cat',True]\n",
    "bacon.index('cat')"
   ]
  },
  {
   "cell_type": "markdown",
   "id": "d1891b96",
   "metadata": {},
   "source": [
    "Q7.How does bacon.append(99) change the look list value in bacon?"
   ]
  },
  {
   "cell_type": "code",
   "execution_count": 3,
   "id": "cebca6e0",
   "metadata": {},
   "outputs": [
    {
     "name": "stdout",
     "output_type": "stream",
     "text": [
      "[3.14, 'cat', 11, 'cat', True]\n",
      "[3.14, 'cat', 11, 'cat', True, 99]\n"
     ]
    }
   ],
   "source": [
    "#append is the method to add new element to the end of list.\n",
    "print(bacon)\n",
    "bacon.append(99)\n",
    "print(bacon)"
   ]
  },
  {
   "cell_type": "markdown",
   "id": "12feba75",
   "metadata": {},
   "source": [
    "Q8.Hoe does bacon.remove('cat') change the look list value in bacon?"
   ]
  },
  {
   "cell_type": "code",
   "execution_count": 4,
   "id": "d2b52227",
   "metadata": {},
   "outputs": [
    {
     "name": "stdout",
     "output_type": "stream",
     "text": [
      "[3.14, 'cat', 11, 'cat', True, 99]\n",
      "[3.14, 11, 'cat', True, 99]\n"
     ]
    }
   ],
   "source": [
    "#remove method remove the first occurence of the element in the list\n",
    "print(bacon)\n",
    "bacon.remove('cat')\n",
    "print(bacon)"
   ]
  },
  {
   "cell_type": "markdown",
   "id": "2e142f82",
   "metadata": {},
   "source": [
    "Q9. What is the difference between list concatenation and list replication operations?"
   ]
  },
  {
   "cell_type": "code",
   "execution_count": 5,
   "id": "ef19b574",
   "metadata": {},
   "outputs": [
    {
     "name": "stdout",
     "output_type": "stream",
     "text": [
      "['shiv', 25, 'karan', 2, 4, 5]\n",
      "[2, 4, 5, 2, 4, 5]\n"
     ]
    }
   ],
   "source": [
    "l1 = ['shiv',25,'karan']\n",
    "l2 = [2,4,5]\n",
    "print(l1 + l2)  #list concatenation\n",
    "print(l2*2)     #list replication"
   ]
  },
  {
   "cell_type": "markdown",
   "id": "65652de2",
   "metadata": {},
   "source": [
    "Q10. What is the difference between list append() and insert()?"
   ]
  },
  {
   "cell_type": "code",
   "execution_count": 9,
   "id": "50f5451c",
   "metadata": {},
   "outputs": [
    {
     "name": "stdout",
     "output_type": "stream",
     "text": [
      "['shiv', 25, 'karan', 7]\n",
      "['shiv', 25, 8, 'karan', 7]\n"
     ]
    }
   ],
   "source": [
    "#append method will add value at the end of list and insert method add value any where in list\n",
    "l1.append(7)\n",
    "print(l1)\n",
    "l1.insert(2,8)\n",
    "print(l1)"
   ]
  },
  {
   "cell_type": "markdown",
   "id": "3dbc96ba",
   "metadata": {},
   "source": [
    "Q11. What are the two methos for removing item from list?\n",
    "\n",
    "Delete and remove these two mwthod to remove item from list"
   ]
  },
  {
   "cell_type": "markdown",
   "id": "af53ffea",
   "metadata": {},
   "source": [
    "Q12. Describe how list values and string values are identical?"
   ]
  },
  {
   "cell_type": "markdown",
   "id": "7815f3e2",
   "metadata": {},
   "source": [
    "list and string can pass the len() function, have indexes and slice, be used in for loop , be concatentaed or replicated, and used with in and not in operator"
   ]
  },
  {
   "cell_type": "markdown",
   "id": "182c9c9a",
   "metadata": {},
   "source": [
    "Q13. What is the differnece between tuple and list?"
   ]
  },
  {
   "cell_type": "markdown",
   "id": "1c3f6720",
   "metadata": {},
   "source": [
    "List are mutuable ,Indexable and sliceable. they can have values add, removed or changed. Tuple are immutable but Indexable and Sliceable. tuple value can't change. Tuple represent using parenthesis(), and list use square bracket[]."
   ]
  },
  {
   "cell_type": "markdown",
   "id": "18b1088e",
   "metadata": {},
   "source": [
    "Q14 . How do you type a tuple value that only contains the integer 42?"
   ]
  },
  {
   "cell_type": "code",
   "execution_count": 11,
   "id": "e90f96b7",
   "metadata": {},
   "outputs": [
    {
     "name": "stdout",
     "output_type": "stream",
     "text": [
      "<class 'int'>\n",
      "<class 'tuple'>\n"
     ]
    }
   ],
   "source": [
    "t1 = (42)\n",
    "t2 = (42,)\n",
    "print(type(t1))\n",
    "print(type(t2))"
   ]
  },
  {
   "cell_type": "markdown",
   "id": "5bf863d7",
   "metadata": {},
   "source": [
    "Q15. How do you get list values from tuple? How do you get tuple value from list?"
   ]
  },
  {
   "cell_type": "markdown",
   "id": "c36561cc",
   "metadata": {},
   "source": [
    "Tuple(),list() function, respectively are used to convert a list to tuple or vise versa."
   ]
  },
  {
   "cell_type": "markdown",
   "id": "9cee3a8f",
   "metadata": {},
   "source": [
    "Q16 . Variable that 'contain' list values are not necessarily list themselves. Instead, what do they contain?"
   ]
  },
  {
   "cell_type": "markdown",
   "id": "439a0ff2",
   "metadata": {},
   "source": [
    "they contain reference to list values."
   ]
  },
  {
   "cell_type": "markdown",
   "id": "d4ec7fab",
   "metadata": {},
   "source": [
    "Q17. How do you distinguish between copy.copy() and copy.deepcopy()?"
   ]
  },
  {
   "cell_type": "markdown",
   "id": "d39a6e8d",
   "metadata": {},
   "source": [
    "copy.copy() function will do shallow copy of list, while copy.deepcopy() function will do a deep copy of list.only copy.deepcopy() will duplicate any lists inside the list"
   ]
  }
 ],
 "metadata": {
  "kernelspec": {
   "display_name": "Python 3 (ipykernel)",
   "language": "python",
   "name": "python3"
  },
  "language_info": {
   "codemirror_mode": {
    "name": "ipython",
    "version": 3
   },
   "file_extension": ".py",
   "mimetype": "text/x-python",
   "name": "python",
   "nbconvert_exporter": "python",
   "pygments_lexer": "ipython3",
   "version": "3.9.12"
  }
 },
 "nbformat": 4,
 "nbformat_minor": 5
}
