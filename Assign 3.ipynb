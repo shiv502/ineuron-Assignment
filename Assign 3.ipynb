{
 "cells": [
  {
   "cell_type": "markdown",
   "id": "17ac3ce3",
   "metadata": {},
   "source": [
    "Q1. Why are functions advantageous to have in your programs?"
   ]
  },
  {
   "cell_type": "markdown",
   "id": "73683bb2",
   "metadata": {},
   "source": [
    "Functions are reusable pieces of code that can be called using a function's name. Functions can be called anywhere in a Python program, including calling functions within other functions."
   ]
  },
  {
   "cell_type": "markdown",
   "id": "58337f61",
   "metadata": {},
   "source": [
    "Q2. When does the code in a function run: when it's sprcified or when it's called?"
   ]
  },
  {
   "cell_type": "markdown",
   "id": "558ef981",
   "metadata": {},
   "source": [
    "the code in a function excute when the function is called, not when the function is define"
   ]
  },
  {
   "cell_type": "markdown",
   "id": "13e8d8ce",
   "metadata": {},
   "source": [
    "Q3. what statement creates a function?"
   ]
  },
  {
   "cell_type": "markdown",
   "id": "289c2529",
   "metadata": {},
   "source": [
    "the def statement defines(that is, creates) a function"
   ]
  },
  {
   "cell_type": "markdown",
   "id": "c19c10d6",
   "metadata": {},
   "source": [
    "Q4. What is difference bet a fun and a fun call?"
   ]
  },
  {
   "cell_type": "markdown",
   "id": "88182007",
   "metadata": {},
   "source": [
    "function consist the define statement and code in its define clause.\n",
    "Fun call is what move the program excute into the function, and fun call excute the function return value."
   ]
  },
  {
   "cell_type": "markdown",
   "id": "631f08b7",
   "metadata": {},
   "source": [
    "Q5. How many global scope are there in python programe? how many local scopes?"
   ]
  },
  {
   "cell_type": "markdown",
   "id": "b333974e",
   "metadata": {},
   "source": [
    "there is the one global and local scope in python program."
   ]
  },
  {
   "cell_type": "markdown",
   "id": "2da99918",
   "metadata": {},
   "source": [
    "Q6. What happens to variable in local scope when function call returns?"
   ]
  },
  {
   "cell_type": "markdown",
   "id": "a62f4b29",
   "metadata": {},
   "source": [
    "when a function return the local scope destroyed and the variable in it forgotten."
   ]
  },
  {
   "cell_type": "markdown",
   "id": "ef1ec7c0",
   "metadata": {},
   "source": [
    "Q7. What is concept of return value? Is it possible to have return value in expression?\n"
   ]
  },
  {
   "cell_type": "markdown",
   "id": "50728c6f",
   "metadata": {},
   "source": [
    "return value the value that function call evalutes to likely any value."
   ]
  },
  {
   "cell_type": "markdown",
   "id": "b1930a3a",
   "metadata": {},
   "source": [
    "Q8. If a function does not have return statement, what is the return value in an expression?"
   ]
  },
  {
   "cell_type": "markdown",
   "id": "62c790a1",
   "metadata": {},
   "source": [
    "if there in no return statement for a function, then return value is none."
   ]
  },
  {
   "cell_type": "markdown",
   "id": "10c09b78",
   "metadata": {},
   "source": [
    "Q9. how do you make a function variable refer to the global variable?"
   ]
  },
  {
   "cell_type": "markdown",
   "id": "79665d9d",
   "metadata": {},
   "source": [
    "global statement will force a variable to refer to the global variable"
   ]
  },
  {
   "cell_type": "markdown",
   "id": "07774c7e",
   "metadata": {},
   "source": [
    "Q10. What is data type is none?"
   ]
  },
  {
   "cell_type": "markdown",
   "id": "4fda82ce",
   "metadata": {},
   "source": [
    "Data type of none is NoneType"
   ]
  },
  {
   "cell_type": "markdown",
   "id": "17971ab4",
   "metadata": {},
   "source": [
    "Q11. What does the sentence import areallyourpetsnamederic do?"
   ]
  },
  {
   "cell_type": "markdown",
   "id": "d196716c",
   "metadata": {},
   "source": [
    "import statement imports module named areallyourpetsnamederic"
   ]
  },
  {
   "cell_type": "markdown",
   "id": "cab0017c",
   "metadata": {},
   "source": [
    "Q12. If you had a bacon() feature in a spam module, what would you call it after importing spam?"
   ]
  },
  {
   "cell_type": "markdown",
   "id": "0c49fa65",
   "metadata": {},
   "source": [
    "spam.bacon()"
   ]
  },
  {
   "cell_type": "markdown",
   "id": "5273b6c0",
   "metadata": {},
   "source": [
    "Q13. What can you do to save a programme from crashing if it encounters an error?"
   ]
  },
  {
   "cell_type": "markdown",
   "id": "c4ea06f1",
   "metadata": {},
   "source": [
    "place line of code that might causean error in a try clasue"
   ]
  },
  {
   "cell_type": "markdown",
   "id": "64a96f52",
   "metadata": {},
   "source": [
    "Q14. What is purpose of the try clause? What is the purpose of the except clause?"
   ]
  },
  {
   "cell_type": "markdown",
   "id": "a0d01427",
   "metadata": {},
   "source": [
    "Try: This block will test the excepted error to occur\n",
    "Except:  Here you can handle the error"
   ]
  },
  {
   "cell_type": "code",
   "execution_count": null,
   "id": "1216125d",
   "metadata": {},
   "outputs": [],
   "source": []
  }
 ],
 "metadata": {
  "kernelspec": {
   "display_name": "Python 3 (ipykernel)",
   "language": "python",
   "name": "python3"
  },
  "language_info": {
   "codemirror_mode": {
    "name": "ipython",
    "version": 3
   },
   "file_extension": ".py",
   "mimetype": "text/x-python",
   "name": "python",
   "nbconvert_exporter": "python",
   "pygments_lexer": "ipython3",
   "version": "3.9.12"
  }
 },
 "nbformat": 4,
 "nbformat_minor": 5
}
