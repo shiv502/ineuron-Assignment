{
 "cells": [
  {
   "cell_type": "markdown",
   "id": "788a4730",
   "metadata": {},
   "source": [
    "Q1. What are the two values of the boolen data type? How do write them?"
   ]
  },
  {
   "cell_type": "markdown",
   "id": "393cedb0",
   "metadata": {},
   "source": [
    "The boolean value can be of two types only i.e. either True or False\n",
    "a = True\n",
    "b = False"
   ]
  },
  {
   "cell_type": "markdown",
   "id": "d785e3e8",
   "metadata": {},
   "source": [
    "Q2. What are the three different types of boolen operators?"
   ]
  },
  {
   "cell_type": "markdown",
   "id": "ea6e6b46",
   "metadata": {},
   "source": [
    "AND, OR, and NOT"
   ]
  },
  {
   "cell_type": "markdown",
   "id": "70d7a127",
   "metadata": {},
   "source": [
    "Q3. Make each boolean oparators truth tables?"
   ]
  },
  {
   "cell_type": "markdown",
   "id": "8ee9d12f",
   "metadata": {},
   "source": [
    "OR\n",
    "A\t      B  \tA or B        \n",
    "True\tTrue\tTrue\n",
    "True\tFalse\tTrue         \n",
    "False\tTrue\tTrue\n",
    "False\tFalse\tFalse\n",
    "\n",
    "AND\n",
    "A\t     B\t  A and B\n",
    "True\tTrue\tTrue\n",
    "True\tFalse\tFalse\n",
    "False\tTrue\tFalse\n",
    "False\tFalse\tFalse\n",
    "\n",
    "NOT\n",
    "A\t    Not A\n",
    "True\tFalse\n",
    "False\tTrue"
   ]
  },
  {
   "cell_type": "markdown",
   "id": "7c25c8d2",
   "metadata": {},
   "source": [
    "Q4. what are the values of the following expression"
   ]
  },
  {
   "cell_type": "code",
   "execution_count": 1,
   "id": "ecd5c35e",
   "metadata": {},
   "outputs": [
    {
     "data": {
      "text/plain": [
       "False"
      ]
     },
     "execution_count": 1,
     "metadata": {},
     "output_type": "execute_result"
    }
   ],
   "source": [
    "(5>4) and (3==5)"
   ]
  },
  {
   "cell_type": "code",
   "execution_count": 2,
   "id": "ea0deb2d",
   "metadata": {},
   "outputs": [
    {
     "data": {
      "text/plain": [
       "False"
      ]
     },
     "execution_count": 2,
     "metadata": {},
     "output_type": "execute_result"
    }
   ],
   "source": [
    "not(5>4)"
   ]
  },
  {
   "cell_type": "code",
   "execution_count": 3,
   "id": "8c11137f",
   "metadata": {},
   "outputs": [
    {
     "data": {
      "text/plain": [
       "True"
      ]
     },
     "execution_count": 3,
     "metadata": {},
     "output_type": "execute_result"
    }
   ],
   "source": [
    "(5>4) or(3==5)"
   ]
  },
  {
   "cell_type": "code",
   "execution_count": 4,
   "id": "b9dc7632",
   "metadata": {},
   "outputs": [
    {
     "data": {
      "text/plain": [
       "False"
      ]
     },
     "execution_count": 4,
     "metadata": {},
     "output_type": "execute_result"
    }
   ],
   "source": [
    "not (5>4) or(3==5)"
   ]
  },
  {
   "cell_type": "code",
   "execution_count": 5,
   "id": "c1d89d29",
   "metadata": {},
   "outputs": [
    {
     "data": {
      "text/plain": [
       "False"
      ]
     },
     "execution_count": 5,
     "metadata": {},
     "output_type": "execute_result"
    }
   ],
   "source": [
    "(True and True) and (True == False)"
   ]
  },
  {
   "cell_type": "code",
   "execution_count": 6,
   "id": "d1258eb5",
   "metadata": {},
   "outputs": [
    {
     "data": {
      "text/plain": [
       "True"
      ]
     },
     "execution_count": 6,
     "metadata": {},
     "output_type": "execute_result"
    }
   ],
   "source": [
    "(not False) or (not False)"
   ]
  },
  {
   "cell_type": "markdown",
   "id": "2199c8fe",
   "metadata": {},
   "source": [
    "Q5. What is six comparison Operators?"
   ]
  },
  {
   "cell_type": "markdown",
   "id": "405377d2",
   "metadata": {},
   "source": [
    "==\t- Equal\t\t\n",
    "!=\t- Not equal\t\n",
    ">\t- Greater than\t\n",
    "<\t- Less than\t\t\n",
    ">=\t- Greater than or equal to\t\n",
    "<=\t- Less than or equal to"
   ]
  },
  {
   "cell_type": "markdown",
   "id": "9908c590",
   "metadata": {},
   "source": [
    "Q6. How do you tell the difference between the equal to and assignment operators?"
   ]
  },
  {
   "cell_type": "markdown",
   "id": "45cd989b",
   "metadata": {},
   "source": [
    "assignment operators -  used to assign the value on the right to the variable.\n",
    "equal to - checks whether the two given value are equal or not"
   ]
  },
  {
   "cell_type": "markdown",
   "id": "2b2fe9a8",
   "metadata": {},
   "source": [
    "Q7. Identify three block i this code?"
   ]
  },
  {
   "cell_type": "markdown",
   "id": "68511911",
   "metadata": {},
   "source": [
    "print('egg')\n",
    "if spam > 5:\n",
    "    print('bacon')\n",
    "else:\n",
    "    print('ham')\n",
    "print('spam')"
   ]
  },
  {
   "cell_type": "markdown",
   "id": "37d08c9e",
   "metadata": {},
   "source": [
    "Q8. write a code that print hello if 1 is stored in spam, print Howdy is stored in spam, and print Greeting if anything else is stored in spam?"
   ]
  },
  {
   "cell_type": "markdown",
   "id": "7ba2eb4c",
   "metadata": {},
   "source": [
    "spam = int(input('Enter a number'))\n",
    "if spam == 1:\n",
    "    print('hello')\n",
    "if spam == 2:\n",
    "    print('howdy')\n",
    "else:\n",
    "    print('Greenting')"
   ]
  },
  {
   "cell_type": "markdown",
   "id": "5cf4acae",
   "metadata": {},
   "source": [
    "Q9. If your programme is stuck in an endless loop, what keys you will press?\n",
    "Ctrl + C"
   ]
  },
  {
   "cell_type": "markdown",
   "id": "6e0765e4",
   "metadata": {},
   "source": [
    "Q10. How can tell difference bet break and continue?"
   ]
  },
  {
   "cell_type": "markdown",
   "id": "1176b9c5",
   "metadata": {},
   "source": [
    "Difference bet break and continue is that break is used for terminate the loop and other hand continue terminate the current iteration and resume the control to the next iterationof the loop"
   ]
  },
  {
   "cell_type": "markdown",
   "id": "6e6ee441",
   "metadata": {},
   "source": [
    "Q11. in for loop what is the diff bet range(10),range(0,10),range(0,10,1)?"
   ]
  },
  {
   "cell_type": "markdown",
   "id": "6608fe26",
   "metadata": {},
   "source": [
    "range is the function generate the seq of integer as per argument pass. we can repeat the action specific number of time.\n",
    "range(10) - create generate a sequence from 0 to 9.\n",
    "range(0,10) - this is also same result here is the give upper and lower limit.\n",
    "range(0,10,1) - this is also same result but here is give upper and lower limit as well as step of number."
   ]
  },
  {
   "cell_type": "markdown",
   "id": "fe919c89",
   "metadata": {},
   "source": [
    "Q11. write a programe to print 1 to 10 number using for loop as well as while loop?"
   ]
  },
  {
   "cell_type": "markdown",
   "id": "ae84a53c",
   "metadata": {},
   "source": [
    "for i in range(1,11):\n",
    "    print(i)"
   ]
  },
  {
   "cell_type": "markdown",
   "id": "c0919b62",
   "metadata": {},
   "source": [
    "i = 1\n",
    "while(i<=10):\n",
    "    print(i)\n",
    "    i += 1"
   ]
  },
  {
   "cell_type": "markdown",
   "id": "675498e7",
   "metadata": {},
   "source": [
    "Q13. if you had a function named bacon() inside a module named spam, how would you call it after importing spam?"
   ]
  },
  {
   "cell_type": "markdown",
   "id": "616f38f6",
   "metadata": {},
   "source": [
    "spam.bacon()"
   ]
  },
  {
   "cell_type": "code",
   "execution_count": null,
   "id": "300614e5",
   "metadata": {},
   "outputs": [],
   "source": []
  }
 ],
 "metadata": {
  "kernelspec": {
   "display_name": "Python 3 (ipykernel)",
   "language": "python",
   "name": "python3"
  },
  "language_info": {
   "codemirror_mode": {
    "name": "ipython",
    "version": 3
   },
   "file_extension": ".py",
   "mimetype": "text/x-python",
   "name": "python",
   "nbconvert_exporter": "python",
   "pygments_lexer": "ipython3",
   "version": "3.9.12"
  }
 },
 "nbformat": 4,
 "nbformat_minor": 5
}
